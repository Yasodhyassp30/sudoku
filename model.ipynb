{
 "cells": [
  {
   "cell_type": "code",
   "execution_count": 1,
   "metadata": {},
   "outputs": [],
   "source": [
    "from tensorflow import keras\n",
    "from tensorflow.keras.datasets import mnist\n",
    "from tensorflow.keras.models import Sequential\n",
    "from tensorflow.keras.layers import Dense\n",
    "from tensorflow.keras.layers import Dropout\n",
    "from tensorflow.keras.layers import Flatten\n",
    "from tensorflow.keras.layers import Conv2D\n",
    "from tensorflow.keras.layers import MaxPooling2D\n",
    "from tensorflow.keras.utils import to_categorical\n",
    "import datetime\n",
    "import numpy as np\n",
    "import os\n",
    "import cv2"
   ]
  },
  {
   "cell_type": "code",
   "execution_count": 22,
   "metadata": {},
   "outputs": [],
   "source": [
    "X = []\n",
    "y = []\n",
    "for i in range(10):\n",
    "    for d in os.listdir(\"assets/{}\".format(i)):\n",
    "        t_img = cv2.imread(\"assets/{}\".format(i)+\"/\"+d)\n",
    "        t_img = cv2.cvtColor(t_img,cv2.COLOR_BGR2GRAY)\n",
    "        X.append(t_img)\n",
    "        y.append(i)"
   ]
  },
  {
   "cell_type": "code",
   "execution_count": 23,
   "metadata": {},
   "outputs": [],
   "source": [
    "X = np.array(X)\n",
    "y = np.array(y)"
   ]
  },
  {
   "cell_type": "code",
   "execution_count": 24,
   "metadata": {},
   "outputs": [
    {
     "data": {
      "text/plain": [
       "(19833, 28, 28)"
      ]
     },
     "metadata": {},
     "output_type": "display_data"
    },
    {
     "data": {
      "text/plain": [
       "(19833,)"
      ]
     },
     "execution_count": 24,
     "metadata": {},
     "output_type": "execute_result"
    }
   ],
   "source": [
    "display(X.shape)\n",
    "y.shape"
   ]
  },
  {
   "cell_type": "code",
   "execution_count": 25,
   "metadata": {},
   "outputs": [],
   "source": [
    "from sklearn.model_selection import train_test_split"
   ]
  },
  {
   "cell_type": "code",
   "execution_count": 26,
   "metadata": {},
   "outputs": [],
   "source": [
    "X_train,X_test, y_train, y_test = train_test_split(X,y,test_size = 0.15, random_state= 21)"
   ]
  },
  {
   "cell_type": "code",
   "execution_count": 27,
   "metadata": {},
   "outputs": [],
   "source": [
    "X_train = X_train.reshape((X_train.shape[0], 28, 28, 1)).astype('float32')\n",
    "X_test = X_test.reshape((X_test.shape[0], 28, 28, 1)).astype('float32')\n",
    "# normalize inputs from 0-255 to 0-1\n",
    "X_train = X_train / 255\n",
    "X_test = X_test / 255\n",
    "# one hot encode outputs\n",
    "y_train = to_categorical(y_train)\n",
    "y_test = to_categorical(y_test)\n",
    "num_classes = y_test.shape[1]"
   ]
  },
  {
   "cell_type": "code",
   "execution_count": 28,
   "metadata": {},
   "outputs": [
    {
     "data": {
      "text/plain": [
       "10"
      ]
     },
     "execution_count": 28,
     "metadata": {},
     "output_type": "execute_result"
    }
   ],
   "source": [
    "num_classes"
   ]
  },
  {
   "cell_type": "code",
   "execution_count": 29,
   "metadata": {},
   "outputs": [],
   "source": [
    "def larger_model():\n",
    "    # create model\n",
    "\tmodel = keras.Sequential(\n",
    "    [\n",
    "        Conv2D(30, (5, 5), input_shape=(28, 28, 1), activation='relu'),\n",
    "        MaxPooling2D(),\n",
    "        Conv2D(15, (3, 3), activation='relu'),\n",
    "        MaxPooling2D(),\n",
    "        Dropout(0.2),\n",
    "        Flatten(),\n",
    "        Dense(128, activation='relu'),\n",
    "        Dense(50, activation='relu'),\n",
    "        Dense(num_classes, activation='softmax')\n",
    "    ])\n",
    "    \n",
    "\n",
    "    # Compile model\n",
    "\tmodel.compile(loss='categorical_crossentropy', optimizer='adam', metrics=['accuracy'])\n",
    "\treturn model\n"
   ]
  },
  {
   "cell_type": "code",
   "execution_count": 30,
   "metadata": {},
   "outputs": [],
   "source": [
    "model = larger_model()\n"
   ]
  },
  {
   "cell_type": "code",
   "execution_count": 31,
   "metadata": {},
   "outputs": [
    {
     "name": "stdout",
     "output_type": "stream",
     "text": [
      "Epoch 1/40\n",
      "3372/3372 [==============================] - 31s 9ms/step - loss: 1.7257 - accuracy: 0.4354 - val_loss: 0.6859 - val_accuracy: 0.7654\n",
      "Epoch 2/40\n",
      "3372/3372 [==============================] - 29s 9ms/step - loss: 0.8207 - accuracy: 0.7257 - val_loss: 0.2022 - val_accuracy: 0.9536\n",
      "Epoch 3/40\n",
      "3372/3372 [==============================] - 29s 9ms/step - loss: 0.5798 - accuracy: 0.8153 - val_loss: 0.1096 - val_accuracy: 0.9734\n",
      "Epoch 4/40\n",
      "3372/3372 [==============================] - 29s 9ms/step - loss: 0.4534 - accuracy: 0.8593 - val_loss: 0.0754 - val_accuracy: 0.9782\n",
      "Epoch 5/40\n",
      "3372/3372 [==============================] - 28s 8ms/step - loss: 0.3900 - accuracy: 0.8843 - val_loss: 0.0448 - val_accuracy: 0.9882\n",
      "Epoch 6/40\n",
      "3372/3372 [==============================] - 29s 8ms/step - loss: 0.3577 - accuracy: 0.8909 - val_loss: 0.0402 - val_accuracy: 0.9892\n",
      "Epoch 7/40\n",
      "3372/3372 [==============================] - 28s 8ms/step - loss: 0.3231 - accuracy: 0.9019 - val_loss: 0.0364 - val_accuracy: 0.9896\n",
      "Epoch 8/40\n",
      "3372/3372 [==============================] - 28s 8ms/step - loss: 0.2839 - accuracy: 0.9133 - val_loss: 0.0382 - val_accuracy: 0.9899\n",
      "Epoch 9/40\n",
      "3372/3372 [==============================] - 29s 8ms/step - loss: 0.2755 - accuracy: 0.9189 - val_loss: 0.0233 - val_accuracy: 0.9929\n",
      "Epoch 10/40\n",
      "3372/3372 [==============================] - 28s 8ms/step - loss: 0.2408 - accuracy: 0.9263 - val_loss: 0.0203 - val_accuracy: 0.9956\n",
      "Epoch 11/40\n",
      "3372/3372 [==============================] - 28s 8ms/step - loss: 0.2337 - accuracy: 0.9285 - val_loss: 0.0219 - val_accuracy: 0.9936\n",
      "Epoch 12/40\n",
      "3372/3372 [==============================] - 28s 8ms/step - loss: 0.2311 - accuracy: 0.9270 - val_loss: 0.0185 - val_accuracy: 0.9943\n",
      "Epoch 13/40\n",
      "3372/3372 [==============================] - 28s 8ms/step - loss: 0.2212 - accuracy: 0.9330 - val_loss: 0.0149 - val_accuracy: 0.9956\n",
      "Epoch 14/40\n",
      "3372/3372 [==============================] - 29s 8ms/step - loss: 0.2065 - accuracy: 0.9391 - val_loss: 0.0107 - val_accuracy: 0.9973\n",
      "Epoch 15/40\n",
      "3372/3372 [==============================] - 29s 8ms/step - loss: 0.2064 - accuracy: 0.9369 - val_loss: 0.0115 - val_accuracy: 0.9973\n",
      "Epoch 16/40\n",
      "3372/3372 [==============================] - 29s 9ms/step - loss: 0.1959 - accuracy: 0.9409 - val_loss: 0.0101 - val_accuracy: 0.9966\n",
      "Epoch 17/40\n",
      "3372/3372 [==============================] - 29s 9ms/step - loss: 0.2035 - accuracy: 0.9384 - val_loss: 0.0121 - val_accuracy: 0.9960\n",
      "Epoch 18/40\n",
      "3372/3372 [==============================] - 31s 9ms/step - loss: 0.1966 - accuracy: 0.9431 - val_loss: 0.0141 - val_accuracy: 0.9956\n",
      "Epoch 19/40\n",
      "3372/3372 [==============================] - 29s 9ms/step - loss: 0.1875 - accuracy: 0.9448 - val_loss: 0.0104 - val_accuracy: 0.9966\n",
      "Epoch 20/40\n",
      "3372/3372 [==============================] - 29s 9ms/step - loss: 0.1851 - accuracy: 0.9441 - val_loss: 0.0115 - val_accuracy: 0.9966\n",
      "Epoch 21/40\n",
      "3372/3372 [==============================] - 29s 9ms/step - loss: 0.1894 - accuracy: 0.9452 - val_loss: 0.0129 - val_accuracy: 0.9963\n",
      "Epoch 22/40\n",
      "3372/3372 [==============================] - 29s 9ms/step - loss: 0.1943 - accuracy: 0.9432 - val_loss: 0.0226 - val_accuracy: 0.9929\n",
      "Epoch 23/40\n",
      "3372/3372 [==============================] - 29s 9ms/step - loss: 0.1976 - accuracy: 0.9407 - val_loss: 0.0215 - val_accuracy: 0.9936\n",
      "Epoch 24/40\n",
      "3372/3372 [==============================] - 29s 9ms/step - loss: 0.1782 - accuracy: 0.9467 - val_loss: 0.0101 - val_accuracy: 0.9976\n",
      "Epoch 25/40\n",
      "3372/3372 [==============================] - 29s 9ms/step - loss: 0.1703 - accuracy: 0.9522 - val_loss: 0.0081 - val_accuracy: 0.9980\n",
      "Epoch 26/40\n",
      "3372/3372 [==============================] - 29s 9ms/step - loss: 0.1734 - accuracy: 0.9486 - val_loss: 0.0118 - val_accuracy: 0.9973\n",
      "Epoch 27/40\n",
      "3372/3372 [==============================] - 30s 9ms/step - loss: 0.1723 - accuracy: 0.9493 - val_loss: 0.0073 - val_accuracy: 0.9987\n",
      "Epoch 28/40\n",
      "3372/3372 [==============================] - 29s 9ms/step - loss: 0.1562 - accuracy: 0.9541 - val_loss: 0.0092 - val_accuracy: 0.9976\n",
      "Epoch 29/40\n",
      "3372/3372 [==============================] - 29s 9ms/step - loss: 0.1833 - accuracy: 0.9451 - val_loss: 0.0128 - val_accuracy: 0.9966\n",
      "Epoch 30/40\n",
      "3372/3372 [==============================] - 30s 9ms/step - loss: 0.1684 - accuracy: 0.9518 - val_loss: 0.0191 - val_accuracy: 0.9960\n",
      "Epoch 31/40\n",
      "3372/3372 [==============================] - 29s 9ms/step - loss: 0.1756 - accuracy: 0.9489 - val_loss: 0.0081 - val_accuracy: 0.9980\n",
      "Epoch 32/40\n",
      "3372/3372 [==============================] - 29s 9ms/step - loss: 0.1725 - accuracy: 0.9473 - val_loss: 0.0133 - val_accuracy: 0.9966\n",
      "Epoch 33/40\n",
      "3372/3372 [==============================] - 29s 9ms/step - loss: 0.1666 - accuracy: 0.9502 - val_loss: 0.0124 - val_accuracy: 0.9973\n",
      "Epoch 34/40\n",
      "3372/3372 [==============================] - 29s 9ms/step - loss: 0.1728 - accuracy: 0.9499 - val_loss: 0.0093 - val_accuracy: 0.9976\n",
      "Epoch 35/40\n",
      "3372/3372 [==============================] - 30s 9ms/step - loss: 0.1672 - accuracy: 0.9507 - val_loss: 0.0084 - val_accuracy: 0.9983\n",
      "Epoch 36/40\n",
      "3372/3372 [==============================] - 29s 9ms/step - loss: 0.1514 - accuracy: 0.9555 - val_loss: 0.0111 - val_accuracy: 0.9970\n",
      "Epoch 37/40\n",
      "3372/3372 [==============================] - 29s 9ms/step - loss: 0.1573 - accuracy: 0.9521 - val_loss: 0.0105 - val_accuracy: 0.9970\n",
      "Epoch 38/40\n",
      "3372/3372 [==============================] - 29s 9ms/step - loss: 0.1625 - accuracy: 0.9525 - val_loss: 0.0090 - val_accuracy: 0.9980\n",
      "Epoch 39/40\n",
      "3372/3372 [==============================] - 29s 9ms/step - loss: 0.1617 - accuracy: 0.9514 - val_loss: 0.0120 - val_accuracy: 0.9983\n",
      "Epoch 40/40\n",
      "3372/3372 [==============================] - 29s 9ms/step - loss: 0.1893 - accuracy: 0.9442 - val_loss: 0.0230 - val_accuracy: 0.9953\n",
      "Large CNN Error: 0.47%\n"
     ]
    }
   ],
   "source": [
    "model.fit(X_train, y_train, validation_data=(X_test, y_test), epochs=40, batch_size=5)\n",
    "# Final evaluation of the model\n",
    "scores = model.evaluate(X_test, y_test, verbose=0)\n",
    "\n",
    "print(\"Large CNN Error: %.2f%%\" % (100-scores[1]*100))"
   ]
  },
  {
   "cell_type": "code",
   "execution_count": 91,
   "metadata": {},
   "outputs": [
    {
     "data": {
      "text/plain": [
       "[0.015085984021425247, 0.9970238208770752]"
      ]
     },
     "execution_count": 91,
     "metadata": {},
     "output_type": "execute_result"
    }
   ],
   "source": [
    "scores"
   ]
  },
  {
   "cell_type": "code",
   "execution_count": 123,
   "metadata": {},
   "outputs": [],
   "source": [
    "model.save(\"model1_16.h5\")"
   ]
  },
  {
   "cell_type": "code",
   "execution_count": 32,
   "metadata": {},
   "outputs": [],
   "source": [
    "model.save(\"model_9.h5\")"
   ]
  },
  {
   "cell_type": "code",
   "execution_count": 74,
   "metadata": {},
   "outputs": [
    {
     "name": "stdout",
     "output_type": "stream",
     "text": [
      "359/359 [==============================] - 2s 4ms/step\n"
     ]
    }
   ],
   "source": [
    "pred = model.predict(X_train,verbose = 1)"
   ]
  },
  {
   "cell_type": "code",
   "execution_count": null,
   "metadata": {},
   "outputs": [],
   "source": []
  }
 ],
 "metadata": {
  "kernelspec": {
   "display_name": "Python 3",
   "language": "python",
   "name": "python3"
  },
  "language_info": {
   "codemirror_mode": {
    "name": "ipython",
    "version": 3
   },
   "file_extension": ".py",
   "mimetype": "text/x-python",
   "name": "python",
   "nbconvert_exporter": "python",
   "pygments_lexer": "ipython3",
   "version": "3.11.2"
  }
 },
 "nbformat": 4,
 "nbformat_minor": 4
}
